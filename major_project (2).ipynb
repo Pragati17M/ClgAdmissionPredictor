{
  "nbformat": 4,
  "nbformat_minor": 0,
  "metadata": {
    "colab": {
      "provenance": []
    },
    "kernelspec": {
      "name": "python3",
      "display_name": "Python 3"
    },
    "language_info": {
      "name": "python"
    }
  },
  "cells": [
    {
      "cell_type": "code",
      "execution_count": null,
      "metadata": {
        "id": "yFmCqKMT5WJN",
        "colab": {
          "base_uri": "https://localhost:8080/"
        },
        "outputId": "1a9ffe05-b3af-46ed-b959-d394b872a780"
      },
      "outputs": [
        {
          "output_type": "stream",
          "name": "stdout",
          "text": [
            "   category   rank  percentile  gender  college_branch\n",
            "0         0  40678   77.849577       0              84\n",
            "1         1  55830   68.298536       0              84\n",
            "2         2  86718   43.316750       0              84\n",
            "3         3  45691   74.510640       0              84\n",
            "4         4  41586   77.066692       0              84\n",
            "0    84\n",
            "1    84\n",
            "2    84\n",
            "3    84\n",
            "4    84\n",
            "Name: college_branch, dtype: int64\n"
          ]
        },
        {
          "output_type": "stream",
          "name": "stderr",
          "text": [
            "/usr/local/lib/python3.10/dist-packages/sklearn/ensemble/_weight_boosting.py:527: FutureWarning: The SAMME.R algorithm (the default) is deprecated and will be removed in 1.6. Use the SAMME algorithm to circumvent this warning.\n",
            "  warnings.warn(\n"
          ]
        },
        {
          "output_type": "stream",
          "name": "stdout",
          "text": [
            "Accuracy: 0.6255102040816326\n"
          ]
        }
      ],
      "source": [
        "from sklearn.ensemble import AdaBoostClassifier\n",
        "from sklearn import datasets\n",
        "import pandas as pd\n",
        "\n",
        "from sklearn.metrics import confusion_matrix as CM\n",
        "from sklearn.model_selection import train_test_split\n",
        "\n",
        "from sklearn import metrics\n",
        "from sklearn.preprocessing import LabelEncoder, StandardScaler\n",
        "\n",
        "df = pd.read_csv('DATA12.csv')\n",
        "X = df[['category','rank', 'percentile', 'college_name', 'gender']]\n",
        "y = df['college_name']\n",
        "label_encoder = LabelEncoder()\n",
        "categorical_columns = ['branch', 'gender', 'category','college_name']\n",
        "for col in categorical_columns:\n",
        "    df[col] = label_encoder.fit_transform(df[col])\n",
        "X = df[['rank', 'percentile', 'gender', 'category','college_name']]\n",
        "y = df['college_name']\n",
        "print(X.head())\n",
        "print(y.head())\n",
        "X_train, X_test, y_train, y_test = train_test_split(X, y, test_size=0.2, random_state=100)\n",
        "\n",
        "train_df = pd.DataFrame(data=X_train, columns=['category','rank', 'percentile', 'college_name', 'gender'])\n",
        "train_df['target'] = y_train\n",
        "\n",
        "test_df = pd.DataFrame(data=X_test, columns=['category','rank', 'percentile', 'college_name', 'gender'])\n",
        "test_df['target'] = y_test\n",
        "\n",
        "train_df.to_excel('train_data.xlsx', index=False)\n",
        "test_df.to_excel('test_data.xlsx', index=False)\n",
        "AdaBoostClf = AdaBoostClassifier(n_estimators=3500,\n",
        "                         learning_rate=0.1)\n",
        "model = AdaBoostClf.fit(X_train, y_train)\n",
        "y_pred = model.predict(X_test)\n",
        "print(\"Accuracy:\",metrics.accuracy_score(y_test, y_pred))\n"
      ]
    },
    {
      "cell_type": "code",
      "source": [
        "\n",
        "from sklearn.ensemble import AdaBoostClassifier\n",
        "from sklearn.preprocessing import LabelEncoder\n",
        "import pandas as pd\n",
        "from sklearn.model_selection import train_test_split\n",
        "from sklearn import metrics\n",
        "df = pd.read_csv('DATA12.csv')\n",
        "\n",
        "\n",
        "label_encoder = LabelEncoder()\n",
        "categorical_columns = ['college_name']\n",
        "for col in categorical_columns:\n",
        "    df[col] = label_encoder.fit_transform(df[col])\n",
        "\n",
        "X = df[['rank', 'percentile', 'gender', 'category']]\n",
        "y = df['college_name']\n",
        "\n",
        "\n",
        "X_train, X_test, y_train, y_test = train_test_split(X, y, test_size=0.2, random_state=100)\n",
        "\n",
        "AdaBoostClf = AdaBoostClassifier(n_estimators=2500, learning_rate=0.1)\n",
        "model = AdaBoostClf.fit(X_train, y_train)\n",
        "\n",
        "def predict_college(rank, percentile, gender, category):\n",
        "\n",
        "    input_data = pd.DataFrame([[rank, percentile, gender, category]], columns=['rank', 'percentile', 'gender', 'category'])\n",
        "\n",
        "\n",
        "    predicted_college_encoded = model.predict(input_data)\n",
        "\n",
        "\n",
        "    predicted_college = label_encoder.inverse_transform(predicted_college_encoded)\n",
        "\n",
        "    return predicted_college[0]\n",
        "\n",
        "rank = int(input(\"Enter rank: \"))\n",
        "percentile = int(float(input(\"Enter percentile: \")) * 10000)  # Convert to int based on base 10000\n",
        "gender = int(input(\"Enter gender (0 for Male, 1 for Female): \"))\n",
        "category = int(input(\"Enter category (0 for General, 1 for OBC, 2 for SC, 3 for ST): \"))\n",
        "\n",
        "\n",
        "predicted_college = predict_college(rank, percentile, gender, category)\n",
        "print(\"Predicted College:\", predicted_college)\n"
      ],
      "metadata": {
        "id": "c79hD0tuUgf4",
        "colab": {
          "base_uri": "https://localhost:8080/",
          "height": 356
        },
        "outputId": "2537d547-6d87-47ef-b53c-64a284143e32"
      },
      "execution_count": null,
      "outputs": [
        {
          "output_type": "error",
          "ename": "KeyboardInterrupt",
          "evalue": "",
          "traceback": [
            "\u001b[0;31m---------------------------------------------------------------------------\u001b[0m",
            "\u001b[0;31mKeyboardInterrupt\u001b[0m                         Traceback (most recent call last)",
            "\u001b[0;32m<ipython-input-2-5faced00d10c>\u001b[0m in \u001b[0;36m<cell line: 21>\u001b[0;34m()\u001b[0m\n\u001b[1;32m     19\u001b[0m \u001b[0;34m\u001b[0m\u001b[0m\n\u001b[1;32m     20\u001b[0m \u001b[0mAdaBoostClf\u001b[0m \u001b[0;34m=\u001b[0m \u001b[0mAdaBoostClassifier\u001b[0m\u001b[0;34m(\u001b[0m\u001b[0mn_estimators\u001b[0m\u001b[0;34m=\u001b[0m\u001b[0;36m2500\u001b[0m\u001b[0;34m,\u001b[0m \u001b[0mlearning_rate\u001b[0m\u001b[0;34m=\u001b[0m\u001b[0;36m0.1\u001b[0m\u001b[0;34m)\u001b[0m\u001b[0;34m\u001b[0m\u001b[0;34m\u001b[0m\u001b[0m\n\u001b[0;32m---> 21\u001b[0;31m \u001b[0mmodel\u001b[0m \u001b[0;34m=\u001b[0m \u001b[0mAdaBoostClf\u001b[0m\u001b[0;34m.\u001b[0m\u001b[0mfit\u001b[0m\u001b[0;34m(\u001b[0m\u001b[0mX_train\u001b[0m\u001b[0;34m,\u001b[0m \u001b[0my_train\u001b[0m\u001b[0;34m)\u001b[0m\u001b[0;34m\u001b[0m\u001b[0;34m\u001b[0m\u001b[0m\n\u001b[0m\u001b[1;32m     22\u001b[0m \u001b[0;34m\u001b[0m\u001b[0m\n\u001b[1;32m     23\u001b[0m \u001b[0;32mdef\u001b[0m \u001b[0mpredict_college\u001b[0m\u001b[0;34m(\u001b[0m\u001b[0mrank\u001b[0m\u001b[0;34m,\u001b[0m \u001b[0mpercentile\u001b[0m\u001b[0;34m,\u001b[0m \u001b[0mgender\u001b[0m\u001b[0;34m,\u001b[0m \u001b[0mcategory\u001b[0m\u001b[0;34m)\u001b[0m\u001b[0;34m:\u001b[0m\u001b[0;34m\u001b[0m\u001b[0;34m\u001b[0m\u001b[0m\n",
            "\u001b[0;32m/usr/local/lib/python3.10/dist-packages/sklearn/ensemble/_weight_boosting.py\u001b[0m in \u001b[0;36mfit\u001b[0;34m(self, X, y, sample_weight)\u001b[0m\n\u001b[1;32m    160\u001b[0m \u001b[0;34m\u001b[0m\u001b[0m\n\u001b[1;32m    161\u001b[0m             \u001b[0;31m# Boosting step\u001b[0m\u001b[0;34m\u001b[0m\u001b[0;34m\u001b[0m\u001b[0m\n\u001b[0;32m--> 162\u001b[0;31m             sample_weight, estimator_weight, estimator_error = self._boost(\n\u001b[0m\u001b[1;32m    163\u001b[0m                 \u001b[0miboost\u001b[0m\u001b[0;34m,\u001b[0m \u001b[0mX\u001b[0m\u001b[0;34m,\u001b[0m \u001b[0my\u001b[0m\u001b[0;34m,\u001b[0m \u001b[0msample_weight\u001b[0m\u001b[0;34m,\u001b[0m \u001b[0mrandom_state\u001b[0m\u001b[0;34m\u001b[0m\u001b[0;34m\u001b[0m\u001b[0m\n\u001b[1;32m    164\u001b[0m             )\n",
            "\u001b[0;32m/usr/local/lib/python3.10/dist-packages/sklearn/ensemble/_weight_boosting.py\u001b[0m in \u001b[0;36m_boost\u001b[0;34m(self, iboost, X, y, sample_weight, random_state)\u001b[0m\n\u001b[1;32m    567\u001b[0m         \"\"\"\n\u001b[1;32m    568\u001b[0m         \u001b[0;32mif\u001b[0m \u001b[0mself\u001b[0m\u001b[0;34m.\u001b[0m\u001b[0malgorithm\u001b[0m \u001b[0;34m==\u001b[0m \u001b[0;34m\"SAMME.R\"\u001b[0m\u001b[0;34m:\u001b[0m\u001b[0;34m\u001b[0m\u001b[0;34m\u001b[0m\u001b[0m\n\u001b[0;32m--> 569\u001b[0;31m             \u001b[0;32mreturn\u001b[0m \u001b[0mself\u001b[0m\u001b[0;34m.\u001b[0m\u001b[0m_boost_real\u001b[0m\u001b[0;34m(\u001b[0m\u001b[0miboost\u001b[0m\u001b[0;34m,\u001b[0m \u001b[0mX\u001b[0m\u001b[0;34m,\u001b[0m \u001b[0my\u001b[0m\u001b[0;34m,\u001b[0m \u001b[0msample_weight\u001b[0m\u001b[0;34m,\u001b[0m \u001b[0mrandom_state\u001b[0m\u001b[0;34m)\u001b[0m\u001b[0;34m\u001b[0m\u001b[0;34m\u001b[0m\u001b[0m\n\u001b[0m\u001b[1;32m    570\u001b[0m \u001b[0;34m\u001b[0m\u001b[0m\n\u001b[1;32m    571\u001b[0m         \u001b[0;32melse\u001b[0m\u001b[0;34m:\u001b[0m  \u001b[0;31m# elif self.algorithm == \"SAMME\":\u001b[0m\u001b[0;34m\u001b[0m\u001b[0;34m\u001b[0m\u001b[0m\n",
            "\u001b[0;32m/usr/local/lib/python3.10/dist-packages/sklearn/ensemble/_weight_boosting.py\u001b[0m in \u001b[0;36m_boost_real\u001b[0;34m(self, iboost, X, y, sample_weight, random_state)\u001b[0m\n\u001b[1;32m    606\u001b[0m         \u001b[0mclasses\u001b[0m \u001b[0;34m=\u001b[0m \u001b[0mself\u001b[0m\u001b[0;34m.\u001b[0m\u001b[0mclasses_\u001b[0m\u001b[0;34m\u001b[0m\u001b[0;34m\u001b[0m\u001b[0m\n\u001b[1;32m    607\u001b[0m         \u001b[0my_codes\u001b[0m \u001b[0;34m=\u001b[0m \u001b[0mnp\u001b[0m\u001b[0;34m.\u001b[0m\u001b[0marray\u001b[0m\u001b[0;34m(\u001b[0m\u001b[0;34m[\u001b[0m\u001b[0;34m-\u001b[0m\u001b[0;36m1.0\u001b[0m \u001b[0;34m/\u001b[0m \u001b[0;34m(\u001b[0m\u001b[0mn_classes\u001b[0m \u001b[0;34m-\u001b[0m \u001b[0;36m1\u001b[0m\u001b[0;34m)\u001b[0m\u001b[0;34m,\u001b[0m \u001b[0;36m1.0\u001b[0m\u001b[0;34m]\u001b[0m\u001b[0;34m)\u001b[0m\u001b[0;34m\u001b[0m\u001b[0;34m\u001b[0m\u001b[0m\n\u001b[0;32m--> 608\u001b[0;31m         \u001b[0my_coding\u001b[0m \u001b[0;34m=\u001b[0m \u001b[0my_codes\u001b[0m\u001b[0;34m.\u001b[0m\u001b[0mtake\u001b[0m\u001b[0;34m(\u001b[0m\u001b[0mclasses\u001b[0m \u001b[0;34m==\u001b[0m \u001b[0my\u001b[0m\u001b[0;34m[\u001b[0m\u001b[0;34m:\u001b[0m\u001b[0;34m,\u001b[0m \u001b[0mnp\u001b[0m\u001b[0;34m.\u001b[0m\u001b[0mnewaxis\u001b[0m\u001b[0;34m]\u001b[0m\u001b[0;34m)\u001b[0m\u001b[0;34m\u001b[0m\u001b[0;34m\u001b[0m\u001b[0m\n\u001b[0m\u001b[1;32m    609\u001b[0m \u001b[0;34m\u001b[0m\u001b[0m\n\u001b[1;32m    610\u001b[0m         \u001b[0;31m# Displace zero probabilities so the log is defined.\u001b[0m\u001b[0;34m\u001b[0m\u001b[0;34m\u001b[0m\u001b[0m\n",
            "\u001b[0;31mKeyboardInterrupt\u001b[0m: "
          ]
        }
      ]
    },
    {
      "cell_type": "code",
      "source": [
        "from sklearn.ensemble import AdaBoostClassifier\n",
        "from sklearn.preprocessing import LabelEncoder\n",
        "import pandas as pd\n",
        "from sklearn.model_selection import train_test_split\n",
        "\n",
        "df = pd.read_csv('DATA12.csv')\n",
        "\n",
        "label_encoder = LabelEncoder()\n",
        "categorical_columns = ['college_name']\n",
        "\n",
        "for col in categorical_columns:\n",
        "    df[col] = label_encoder.fit_transform(df[col])\n",
        "\n",
        "X = df[['rank', 'percentile', 'gender', 'category']]\n",
        "y = df['college_name']\n",
        "\n",
        "X_train, X_test, y_train, y_test = train_test_split(X, y, test_size=0.2, random_state=100)\n",
        "\n",
        "AdaBoostClf = AdaBoostClassifier(n_estimators=2500, learning_rate=0.1)\n",
        "model = AdaBoostClf.fit(X_train, y_train)\n",
        "\n",
        "def predict_colleges(rank, percentile, gender, category, top_n=5):\n",
        "    input_data = pd.DataFrame([[rank, percentile, gender, category]], columns=['rank', 'percentile', 'gender', 'category'])\n",
        "    predicted_college_encoded = model.predict(input_data)\n",
        "    predicted_colleges_encoded = model.classes_[model.predict_proba(input_data).argsort()[0][-top_n:]][::-1]\n",
        "    predicted_colleges = label_encoder.inverse_transform(predicted_colleges_encoded)\n",
        "    return predicted_colleges\n",
        "\n",
        "rank = int(input(\"Enter rank: \"))\n",
        "percentile = int(float(input(\"Enter percentile: \")) * 10000)\n",
        "gender = int(input(\"Enter gender (0 for Male, 1 for Female): \"))\n",
        "category = int(input(\"Enter category (0 for General, 1 for OBC, 2 for SC, 3 for ST): \"))\n",
        "\n",
        "predicted_colleges = predict_colleges(rank, percentile, gender, category, top_n=5)\n",
        "print(\"Predicted Colleges (Top 5):\")\n",
        "for college in predicted_colleges:\n",
        "    print(college)\n"
      ],
      "metadata": {
        "colab": {
          "base_uri": "https://localhost:8080/"
        },
        "id": "_lClijanh60x",
        "outputId": "3b9aa7a3-dcf8-4b35-9828-86f7867d1b62"
      },
      "execution_count": null,
      "outputs": [
        {
          "output_type": "stream",
          "name": "stdout",
          "text": [
            "Enter rank: 1542\n",
            "Enter percentile: 84\n",
            "Enter gender (0 for Male, 1 for Female): 0\n",
            "Enter category (0 for General, 1 for OBC, 2 for SC, 3 for ST): 3\n",
            "Predicted Colleges (Top 5):\n",
            "MIT Academy of Engineering,Alandi, Pune\n",
            "Genba Sopanrao Moze College of Engineering, Baner-Balewadi, Pune\n",
            "Government College of Engineering,Yavatmal\n",
            "Government College of Engineering & Research, Avasari Khurd\n",
            "Shri Sant Gajanan Maharaj College of Engineering,Shegaon\n"
          ]
        }
      ]
    },
    {
      "cell_type": "code",
      "source": [
        "def predict_colleges(rank, percentile, gender, category, top_n=5):\n",
        "    input_data = pd.DataFrame([[rank, percentile, gender, category]], columns=['rank', 'percentile', 'gender', 'category'])\n",
        "    predicted_college_encoded = model.predict(input_data)\n",
        "    predicted_colleges_encoded = model.classes_[model.predict_proba(input_data).argsort()[0][-top_n:]][::-1]\n",
        "    predicted_colleges = label_encoder.inverse_transform(predicted_colleges_encoded)\n",
        "    return predicted_colleges\n",
        "\n",
        "rank = int(input(\"Enter rank: \"))\n",
        "percentile = int(float(input(\"Enter percentile: \")) * 10000)\n",
        "gender = int(input(\"Enter gender (0 for Male, 1 for Female): \"))\n",
        "category = int(input(\"Enter category (0 for General, 1 for OBC, 2 for SC, 3 for ST): \"))\n",
        "\n",
        "predicted_colleges = predict_colleges(rank, percentile, gender, category, top_n=5)\n",
        "print(\"Predicted Colleges (Top 5):\")\n",
        "for college in predicted_colleges:\n",
        "    print(college)"
      ],
      "metadata": {
        "colab": {
          "base_uri": "https://localhost:8080/"
        },
        "id": "WDRAXVoKEwSc",
        "outputId": "6381f7ca-a193-4032-d797-3a12342e3094"
      },
      "execution_count": null,
      "outputs": [
        {
          "output_type": "stream",
          "name": "stdout",
          "text": [
            "Enter rank: 1532\n",
            "Enter percentile: 96\n",
            "Enter gender (0 for Male, 1 for Female): 0\n",
            "Enter category (0 for General, 1 for OBC, 2 for SC, 3 for ST): 2\n",
            "Predicted Colleges (Top 5):\n",
            "New Horizon Institute of Technology & Management, Thane\n",
            "Guru Gobind Singh College of Engineering & Research Centre, Nashik\n",
            "Prof. Ram Meghe Institute of Technology & Research, Amravati\n",
            "Ahmednagar Jilha Maratha Vidya Prasarak Samajache, Shri. Chhatrapati Shivaji Maharaj College of Engineering, Nepti\n",
            "Shri Shivaji Education Society's College of Engineering and Technology, Akola\n"
          ]
        }
      ]
    },
    {
      "cell_type": "code",
      "source": [
        "def predict_college(rank, percentile, gender, category):\n",
        "    # Sample data of colleges with their rank and percentile\n",
        "    # You should replace this with your actual data\n",
        "    college_data = [\n",
        "        {\"name\": \"College A\", \"rank\": 100, \"percentile\": 98, \"gender\": 0, \"category\": 0},\n",
        "        {\"name\": \"College B\", \"rank\": 200, \"percentile\": 95, \"gender\": 1, \"category\": 1},\n",
        "        {\"name\": \"College C\", \"rank\": 300, \"percentile\": 90, \"gender\": 0, \"category\": 2},\n",
        "        {\"name\": \"College D\", \"rank\": 400, \"percentile\": 85, \"gender\": 1, \"category\": 3},\n",
        "        {\"name\": \"College E\", \"rank\": 500, \"percentile\": 80, \"gender\": 0, \"category\": 0}\n",
        "    ]\n",
        "\n",
        "    # Filter colleges based on user input\n",
        "    filtered_colleges = []\n",
        "    for college in college_data:\n",
        "        if (\n",
        "            college[\"percentile\"] <= percentile\n",
        "            and college[\"rank\"] >= rank\n",
        "            and college[\"gender\"] == gender\n",
        "            and college[\"category\"] == category\n",
        "        ):\n",
        "            filtered_colleges.append(college)\n",
        "\n",
        "    # Sort colleges by rank\n",
        "    sorted_colleges = sorted(filtered_colleges, key=lambda x: x[\"rank\"])\n",
        "\n",
        "    # Return top 5 colleges\n",
        "    return sorted_colleges[:5]\n",
        "\n",
        "# Test the function with user input\n",
        "rank = int(input(\"Enter rank: \"))\n",
        "percentile = int(float(input(\"Enter percentile: \")) * 100)  # Convert to int based on base 100\n",
        "gender = int(input(\"Enter gender (0 for Male, 1 for Female): \"))\n",
        "category = int(input(\"Enter category (0 for General, 1 for OBC, 2 for SC, 3 for ST): \"))\n",
        "\n",
        "predicted_colleges = predict_college(rank, percentile, gender, category)\n",
        "print(\"Predicted Colleges (Top 5):\")\n",
        "for college in predicted_colleges:\n",
        "    print(college[\"name\"])\n"
      ],
      "metadata": {
        "colab": {
          "base_uri": "https://localhost:8080/"
        },
        "id": "n7c_Y6CvfmgO",
        "outputId": "c01b8afb-5555-4556-d738-c7091ed44565"
      },
      "execution_count": null,
      "outputs": [
        {
          "output_type": "stream",
          "name": "stdout",
          "text": [
            "Enter rank: 100\n",
            "Enter percentile: 95\n",
            "Enter gender (0 for Male, 1 for Female): 0\n",
            "Enter category (0 for General, 1 for OBC, 2 for SC, 3 for ST): 2\n",
            "Predicted Colleges (Top 5):\n",
            "College C\n"
          ]
        }
      ]
    },
    {
      "cell_type": "code",
      "source": [
        "import csv\n",
        "\n",
        "def predict_college(rank, percentile, gender, category):\n",
        "    # Read college data from CSV file\n",
        "    college_data = []\n",
        "    with open(\"DATA12.csv\", mode='r') as file:\n",
        "        reader = csv.DictReader(file)\n",
        "        for row in reader:\n",
        "            college_data.append({\n",
        "                \"college_name\": row[\"college_name\"],\n",
        "                \"rank\": int(row[\"rank\"]),\n",
        "                \"percentile\": float(row[\"percentile\"]),  # Convert to float first\n",
        "                \"gender\": int(row[\"gender\"]),\n",
        "                \"category\": int(row[\"category\"])\n",
        "            })\n",
        "\n",
        "    # Filter colleges based on user input\n",
        "    filtered_colleges = []\n",
        "    for college in college_data:\n",
        "        if (\n",
        "            college[\"percentile\"] * 100 <= percentile  # Multiply by 100 to get percentage\n",
        "            and college[\"rank\"] == rank\n",
        "            and college[\"gender\"] == gender\n",
        "            and college[\"category\"] == category\n",
        "        ):\n",
        "            filtered_colleges.append(college)\n",
        "\n",
        "    # Sort colleges by rank\n",
        "    sorted_colleges = sorted(filtered_colleges, key=lambda x: x[\"rank\"])\n",
        "\n",
        "    # Return top 5 colleges\n",
        "    return sorted_colleges[:5]\n",
        "\n",
        "# Test the function with user input\n",
        "rank = int(input(\"Enter rank: \"))\n",
        "percentile = float(input(\"Enter percentile: \"))  # Leave as float\n",
        "gender = int(input(\"Enter gender (0 for Male, 1 for Female): \"))\n",
        "category = int(input(\"Enter category (0 for General, 1 for OBC, 2 for SC, 3 for ST): \"))\n",
        "\n",
        "predicted_colleges = predict_college(rank, percentile, gender, category)\n",
        "print(\"Predicted Colleges (Top 5):\")\n",
        "for college in predicted_colleges:\n",
        "    print(college[\"college_name\"])\n"
      ],
      "metadata": {
        "colab": {
          "base_uri": "https://localhost:8080/",
          "height": 401
        },
        "id": "EO5W0PPRgHVm",
        "outputId": "0278cb78-5483-49c4-e43a-10a3435da2d3"
      },
      "execution_count": null,
      "outputs": [
        {
          "name": "stdout",
          "output_type": "stream",
          "text": [
            "Enter rank: 49512\n",
            "Enter percentile: 72\n",
            "Enter gender (0 for Male, 1 for Female): 0\n",
            "Enter category (0 for General, 1 for OBC, 2 for SC, 3 for ST): 2\n"
          ]
        },
        {
          "output_type": "error",
          "ename": "KeyError",
          "evalue": "'category'",
          "traceback": [
            "\u001b[0;31m---------------------------------------------------------------------------\u001b[0m",
            "\u001b[0;31mKeyError\u001b[0m                                  Traceback (most recent call last)",
            "\u001b[0;32m<ipython-input-19-c96c122f0d4d>\u001b[0m in \u001b[0;36m<cell line: 40>\u001b[0;34m()\u001b[0m\n\u001b[1;32m     38\u001b[0m \u001b[0mcategory\u001b[0m \u001b[0;34m=\u001b[0m \u001b[0mint\u001b[0m\u001b[0;34m(\u001b[0m\u001b[0minput\u001b[0m\u001b[0;34m(\u001b[0m\u001b[0;34m\"Enter category (0 for General, 1 for OBC, 2 for SC, 3 for ST): \"\u001b[0m\u001b[0;34m)\u001b[0m\u001b[0;34m)\u001b[0m\u001b[0;34m\u001b[0m\u001b[0;34m\u001b[0m\u001b[0m\n\u001b[1;32m     39\u001b[0m \u001b[0;34m\u001b[0m\u001b[0m\n\u001b[0;32m---> 40\u001b[0;31m \u001b[0mpredicted_colleges\u001b[0m \u001b[0;34m=\u001b[0m \u001b[0mpredict_college\u001b[0m\u001b[0;34m(\u001b[0m\u001b[0mrank\u001b[0m\u001b[0;34m,\u001b[0m \u001b[0mpercentile\u001b[0m\u001b[0;34m,\u001b[0m \u001b[0mgender\u001b[0m\u001b[0;34m,\u001b[0m \u001b[0mcategory\u001b[0m\u001b[0;34m)\u001b[0m\u001b[0;34m\u001b[0m\u001b[0;34m\u001b[0m\u001b[0m\n\u001b[0m\u001b[1;32m     41\u001b[0m \u001b[0mprint\u001b[0m\u001b[0;34m(\u001b[0m\u001b[0;34m\"Predicted Colleges (Top 5):\"\u001b[0m\u001b[0;34m)\u001b[0m\u001b[0;34m\u001b[0m\u001b[0;34m\u001b[0m\u001b[0m\n\u001b[1;32m     42\u001b[0m \u001b[0;32mfor\u001b[0m \u001b[0mcollege\u001b[0m \u001b[0;32min\u001b[0m \u001b[0mpredicted_colleges\u001b[0m\u001b[0;34m:\u001b[0m\u001b[0;34m\u001b[0m\u001b[0;34m\u001b[0m\u001b[0m\n",
            "\u001b[0;32m<ipython-input-19-c96c122f0d4d>\u001b[0m in \u001b[0;36mpredict_college\u001b[0;34m(rank, percentile, gender, category)\u001b[0m\n\u001b[1;32m     12\u001b[0m                 \u001b[0;34m\"percentile\"\u001b[0m\u001b[0;34m:\u001b[0m \u001b[0mfloat\u001b[0m\u001b[0;34m(\u001b[0m\u001b[0mrow\u001b[0m\u001b[0;34m[\u001b[0m\u001b[0;34m\"percentile\"\u001b[0m\u001b[0;34m]\u001b[0m\u001b[0;34m)\u001b[0m\u001b[0;34m,\u001b[0m  \u001b[0;31m# Convert to float first\u001b[0m\u001b[0;34m\u001b[0m\u001b[0;34m\u001b[0m\u001b[0m\n\u001b[1;32m     13\u001b[0m                 \u001b[0;34m\"gender\"\u001b[0m\u001b[0;34m:\u001b[0m \u001b[0mint\u001b[0m\u001b[0;34m(\u001b[0m\u001b[0mrow\u001b[0m\u001b[0;34m[\u001b[0m\u001b[0;34m\"gender\"\u001b[0m\u001b[0;34m]\u001b[0m\u001b[0;34m)\u001b[0m\u001b[0;34m,\u001b[0m\u001b[0;34m\u001b[0m\u001b[0;34m\u001b[0m\u001b[0m\n\u001b[0;32m---> 14\u001b[0;31m                 \u001b[0;34m\"category\"\u001b[0m\u001b[0;34m:\u001b[0m \u001b[0mint\u001b[0m\u001b[0;34m(\u001b[0m\u001b[0mrow\u001b[0m\u001b[0;34m[\u001b[0m\u001b[0;34m\"category\"\u001b[0m\u001b[0;34m]\u001b[0m\u001b[0;34m)\u001b[0m\u001b[0;34m\u001b[0m\u001b[0;34m\u001b[0m\u001b[0m\n\u001b[0m\u001b[1;32m     15\u001b[0m             })\n\u001b[1;32m     16\u001b[0m \u001b[0;34m\u001b[0m\u001b[0m\n",
            "\u001b[0;31mKeyError\u001b[0m: 'category'"
          ]
        }
      ]
    }
  ]
}